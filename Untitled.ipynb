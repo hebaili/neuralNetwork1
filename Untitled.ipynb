{
 "cells": [
  {
   "cell_type": "code",
   "execution_count": 1,
   "metadata": {},
   "outputs": [],
   "source": [
    "import torch"
   ]
  },
  {
   "cell_type": "code",
   "execution_count": 2,
   "metadata": {
    "collapsed": true
   },
   "outputs": [],
   "source": [
    "import torch.nn as nn\n",
    "from torch.autograd import Variable"
   ]
  },
  {
   "cell_type": "code",
   "execution_count": 238,
   "metadata": {},
   "outputs": [],
   "source": [
    "import pandas as pd\n",
    "import requests\n",
    "\n",
    "f = open('graphs5.txt', 'r')\n",
    "x = f.readlines()\n",
    "f.close()"
   ]
  },
  {
   "cell_type": "code",
   "execution_count": 239,
   "metadata": {},
   "outputs": [
    {
     "name": "stdout",
     "output_type": "stream",
     "text": [
      "[[ 1.  1.  0. ...,  0.  0.  0.]\n",
      " [ 0.  0.  1. ...,  0.  0.  0.]\n",
      " [ 1.  0.  1. ...,  0.  0.  0.]\n",
      " ..., \n",
      " [ 1.  0.  1. ...,  1.  1.  1.]\n",
      " [ 0.  1.  1. ...,  1.  1.  1.]\n",
      " [ 1.  1.  1. ...,  1.  1.  1.]]\n",
      "(1021, 10)\n"
     ]
    }
   ],
   "source": [
    "# Store data into a X and Y\n",
    "import numpy as np\n",
    "n=11\n",
    "data = x[n:]\n",
    "#print(data)\n",
    "X = np.zeros((len(data)-1,n-1))\n",
    "Y = np.zeros((len(data)-1,1))\n",
    "for i in range (len(data)-1):\n",
    "    temp = data[i].split()\n",
    "    for j in range(n-1):\n",
    "        X[i][j] = temp[j]\n",
    "    if (temp[n-1]=='Y'):\n",
    "        Y[i] = 1\n",
    "    else:\n",
    "        Y[i] = 0\n",
    "print(X)\n",
    "print(np.shape(X))"
   ]
  },
  {
   "cell_type": "code",
   "execution_count": 240,
   "metadata": {},
   "outputs": [
    {
     "data": {
      "text/plain": [
       "(1021, 1)"
      ]
     },
     "execution_count": 240,
     "metadata": {},
     "output_type": "execute_result"
    }
   ],
   "source": [
    "np.shape(Y)"
   ]
  },
  {
   "cell_type": "code",
   "execution_count": 241,
   "metadata": {
    "collapsed": true
   },
   "outputs": [],
   "source": [
    "#Import the neccessary packages\n",
    "import torch\n",
    "import torch.nn as nn\n",
    "from torch.autograd import Variable\n"
   ]
  },
  {
   "cell_type": "code",
   "execution_count": 242,
   "metadata": {
    "collapsed": true
   },
   "outputs": [],
   "source": [
    "class My_Neural_Net(nn.Module):    \n",
    "    #constructor\n",
    "    def __init__(self):\n",
    "        super(My_Neural_Net, self).__init__()\n",
    "        \n",
    "        # Define the layers. This matches the image above \n",
    "        # Except that our input size is 1000 dimensions\n",
    "        self.layer_1 = nn.Linear(n-1, 6)\n",
    "        self.layer_2 = nn.Linear(6,6)\n",
    "        \n",
    "        # Add one more layer\n",
    "        self.layer_3 = nn.Linear(6,6)\n",
    "        \n",
    "        self.layer_4 = nn.Linear(6,1)\n",
    "\n",
    "\n",
    "        self.relu = nn.ReLU()\n",
    "        self.sigmoid = nn.Sigmoid()\n",
    "        \n",
    "        # Define what optimization we want to use.\n",
    "        # Adam is a popular method so I'll use it.\n",
    "        self.optimizer = torch.optim.Adam(self.parameters(), lr=0.0001)\n",
    "        \n",
    "    # 1. input X\n",
    "    def forward(self, X):\n",
    "        # 2. linearly transform X into hidden data 1\n",
    "        X = self.layer_1(X)\n",
    "        # 3. perform ReLU on hidden data\n",
    "        X = self.relu(X)\n",
    "        # 4. linearly transform hidden data into hidden data 2\n",
    "        X = self.layer_2(X)\n",
    "        # 5. perform ReLU on hidden data\n",
    "        X = self.relu(X)\n",
    "        # 6. linearly transform hidden data into hidden data 3\n",
    "        X = self.layer_3(X)\n",
    "        X = self.relu(X)\n",
    "        \n",
    "        # Linearly transform hidden data into output\n",
    "        X = self.layer_4(X)\n",
    "        # 7. perform sigmoid on output data to get f(X) predictions between 0 and 1\n",
    "        X = self.sigmoid(X)\n",
    "        \n",
    "        # 8. output predictions\n",
    "        return X\n",
    "    \n",
    "    def loss(self, pred, true):\n",
    "        #PyTorch's own cross entropy loss function.\n",
    "        score = nn.BCELoss()\n",
    "        return score(pred, true)\n",
    "    \n",
    "\n",
    "    # 1. input: N - number of iterations to train, X - data, y - target\n",
    "    def fit(self,X,y,N = 10000):\n",
    "        \n",
    "        # 2. for n going from 0 to N -1 :\n",
    "        for epoch in range(N):\n",
    "            \n",
    "            # Reset weights in case they are set for some reason\n",
    "            self.optimizer.zero_grad()\n",
    "            \n",
    "            # 3. f(X) = forward(X) \n",
    "            pred = self.forward(X)\n",
    "            \n",
    "            # 4. l = loss(f(X),y)\n",
    "            l = self.loss(pred, y)\n",
    "            #print loss\n",
    "            #print(l)\n",
    "            \n",
    "            # 5. Back progation\n",
    "            l.backward()\n",
    "            # 5. Gradient Descent\n",
    "            self.optimizer.step()\n",
    "    \n",
    "    def predict_proba(self, X):\n",
    "        # probability of being a 1\n",
    "        prob_1 = self.forward(X)\n",
    "              \n",
    "        # vectorwise subtraction\n",
    "        prob_0 = 1 - prob_1\n",
    "        \n",
    "        # make into a matrix\n",
    "        probs = torch.cat((prob_0,prob_1), dim = 1)\n",
    "        \n",
    "        return probs\n",
    "    \n",
    "    def predict(self, X):\n",
    "        probs = self.predict_proba(X)\n",
    "        \n",
    "        # get only second column (probability of being a 1)\n",
    "        probs_1 = probs[:,1:]\n",
    "        \n",
    "        # 1 if prob_1 is greater or equal to than 0.5 for a given example\n",
    "        # 0 if less than 0.5\n",
    "        preds = (probs_1 >= 0.5).int()\n",
    "        \n",
    "        return preds\n",
    "    \n",
    "    def score(self, X, y):\n",
    "        # proportion of times where we're correct\n",
    "        # conversions just allow the math to work\n",
    "        acc = (self.predict(X) == y.int()).float().mean()\n",
    "        \n",
    "        return acc"
   ]
  },
  {
   "cell_type": "code",
   "execution_count": 243,
   "metadata": {},
   "outputs": [],
   "source": [
    "#Create our neural net\n",
    "neur_net = My_Neural_Net()\n",
    "\n",
    "# Split into train and test so we can fit on some data and see performance \n",
    "# on data we havent seen yet.\n",
    "#from sklearn.model_selection import train_test_split\n",
    "X_train, X_test, y_train, y_test = train_test_split(X, Y)\n",
    "\n",
    "# Turn X and y (train and test) into PyTorch objects. We always have to do this step\n",
    "X_train_tens = Variable(torch.Tensor(X_train).float())\n",
    "X_test_tens = Variable(torch.Tensor(X_test).float())\n",
    "y_train_tens = Variable(torch.Tensor(y_train).float())\n",
    "y_test_tens = Variable(torch.Tensor(y_test).float())\n",
    "\n",
    "        "
   ]
  },
  {
   "cell_type": "code",
   "execution_count": 244,
   "metadata": {},
   "outputs": [
    {
     "data": {
      "text/plain": [
       "tensor(0.9882)"
      ]
     },
     "execution_count": 244,
     "metadata": {},
     "output_type": "execute_result"
    }
   ],
   "source": [
    "neur_net.fit(X_train_tens,y_train_tens)\n",
    "neur_net.score(X_train_tens,y_train_tens)"
   ]
  },
  {
   "cell_type": "code",
   "execution_count": null,
   "metadata": {
    "collapsed": true
   },
   "outputs": [],
   "source": []
  }
 ],
 "metadata": {
  "kernelspec": {
   "display_name": "Python 3",
   "language": "python",
   "name": "python3"
  },
  "language_info": {
   "codemirror_mode": {
    "name": "ipython",
    "version": 3
   },
   "file_extension": ".py",
   "mimetype": "text/x-python",
   "name": "python",
   "nbconvert_exporter": "python",
   "pygments_lexer": "ipython3",
   "version": "3.6.8"
  }
 },
 "nbformat": 4,
 "nbformat_minor": 2
}
